{
 "cells": [
  {
   "cell_type": "code",
   "execution_count": 67,
   "id": "7820ec48",
   "metadata": {},
   "outputs": [
    {
     "name": "stdout",
     "output_type": "stream",
     "text": [
      "The autoreload extension is already loaded. To reload it, use:\n",
      "  %reload_ext autoreload\n"
     ]
    }
   ],
   "source": [
    "%load_ext autoreload\n",
    "%autoreload 2\n",
    "# %matplotlib widget\n",
    "\n",
    "# Import the CGMViewer class\n",
    "from viewer import CGMViewer\n",
    "\n",
    "# Import overlays on CGM (glucose) time-series\n",
    "from overlays import (\n",
    "    TimeInRangeOverlay,\n",
    "    FoodEntryOverlay,\n",
    "    CgmMeasuresOverlay\n",
    ")\n",
    "\n",
    "# Import extensions (e.g. hypnogram) that will be attached in separate panel\n",
    "from extensions import (\n",
    "    HypnogramExtension\n",
    ")"
   ]
  },
  {
   "cell_type": "code",
   "execution_count": 68,
   "id": "cc412861",
   "metadata": {},
   "outputs": [],
   "source": [
    "# Define path to dataset\n",
    "base_path = \"/Users/billchen/Desktop/dwatch-sample/sample_subject\""
   ]
  },
  {
   "cell_type": "code",
   "execution_count": 69,
   "id": "4224d733",
   "metadata": {},
   "outputs": [
    {
     "data": {
      "application/vnd.jupyter.widget-view+json": {
       "model_id": "54a4c5f26b5749f19bda57056640b830",
       "version_major": 2,
       "version_minor": 0
      },
      "text/plain": [
       "VBox(children=(HBox(children=(Button(description='←', layout=Layout(border_bottom='1px solid #d0d0d0', border_…"
      ]
     },
     "execution_count": 69,
     "metadata": {},
     "output_type": "execute_result"
    }
   ],
   "source": [
    "### Initialize the CGMSandbox Viewer and draw daily glucose tracings\n",
    "viewer = CGMViewer(base_path, filename=\"blood_glucose.json\", gl_range=(0, 250))\n",
    "\n",
    "### Let's try to add some overlay's to the plain CGM tracing! \n",
    "viewer.add_overlay(TimeInRangeOverlay())\n",
    "viewer.add_overlay(FoodEntryOverlay(base_path, filename=\"food_entry.json\"))\n",
    "viewer.add_overlay(CgmMeasuresOverlay())\n",
    "\n",
    "### Now, let us extend the plain CGM tracing by adding an hypnogram extension\n",
    "viewer.add_extensions(HypnogramExtension(base_path, filename=\"sleep_stage_summary.json\"))\n",
    "\n",
    "viewer.show()"
   ]
  },
  {
   "cell_type": "code",
   "execution_count": null,
   "id": "f762ff16",
   "metadata": {},
   "outputs": [],
   "source": []
  }
 ],
 "metadata": {
  "kernelspec": {
   "display_name": ".venv",
   "language": "python",
   "name": "python3"
  },
  "language_info": {
   "codemirror_mode": {
    "name": "ipython",
    "version": 3
   },
   "file_extension": ".py",
   "mimetype": "text/x-python",
   "name": "python",
   "nbconvert_exporter": "python",
   "pygments_lexer": "ipython3",
   "version": "3.13.2"
  }
 },
 "nbformat": 4,
 "nbformat_minor": 5
}
