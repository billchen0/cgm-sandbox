{
 "cells": [
  {
   "cell_type": "code",
   "execution_count": 1,
   "id": "7820ec48",
   "metadata": {},
   "outputs": [],
   "source": [
    "%load_ext autoreload\n",
    "%autoreload 2\n",
    "# %matplotlib widget\n",
    "\n",
    "# Import loaders (used by viewer and overlays)\n",
    "from loader import (\n",
    "    load_cgm_data,\n",
    "    load_sleep_data,\n",
    "    load_food_entry_data\n",
    ")\n",
    "\n",
    "# Import the CGMViewer class\n",
    "from viewer import CGMViewer\n",
    "\n",
    "# Import overlays on CGM (glucose) time-series\n",
    "from overlays import (\n",
    "    TimeInRangeOverlay,\n",
    "    FoodEntryOverlay\n",
    ")\n",
    "\n",
    "# Import CGM-based biomarker overlays\n",
    "from overlays import (\n",
    "    CgmMeasuresOverlay,\n",
    "    CvOverlay,\n",
    "    MageOverlay\n",
    ")\n",
    "\n",
    "# Import Multi-modal biomarker overlays\n",
    "from overlays import (\n",
    "    WakeupGlucoseOverlay,\n",
    "    PPGROverlay\n",
    ")\n",
    "\n",
    "# Import extensions (e.g. hypnogram) that will be attached in separate panel\n",
    "from extensions import (\n",
    "    HypnogramExtension\n",
    ")"
   ]
  },
  {
   "cell_type": "code",
   "execution_count": 6,
   "id": "b7ae179e-1ffa-4a66-86ea-5578fb6c21a6",
   "metadata": {},
   "outputs": [],
   "source": [
    "# Local path to data if JHE client fails\n",
    "base_path = \"./sample_subject\""
   ]
  },
  {
   "cell_type": "markdown",
   "id": "86bc58c8-1723-4d49-97ee-37806c8e8352",
   "metadata": {},
   "source": [
    "## Loading Data from the JupyterHealth Exchange"
   ]
  },
  {
   "cell_type": "code",
   "execution_count": 2,
   "id": "f5b16f38-1ed2-4df6-8870-5ab5b61da686",
   "metadata": {},
   "outputs": [
    {
     "data": {
      "text/plain": [
       "{'id': 40079,\n",
       " 'jheUserId': 10070,\n",
       " 'identifier': '010101',\n",
       " 'nameFamily': 'Doe',\n",
       " 'nameGiven': 'Jane',\n",
       " 'birthDate': '1998-01-01',\n",
       " 'telecomPhone': None,\n",
       " 'telecomEmail': 'janedoejupyter@example.org',\n",
       " 'organizations': [{'id': 20029,\n",
       "   'name': 'JupyterCon Tutorial',\n",
       "   'type': 'other',\n",
       "   'partOf': 20028,\n",
       "   'currentUserRole': None,\n",
       "   'children': []}]}"
      ]
     },
     "execution_count": 2,
     "metadata": {},
     "output_type": "execute_result"
    }
   ],
   "source": [
    "# Initialize the JupyterHealth Client\n",
    "# See documentation for more detail: https://jupyterhealth.org/software-documentation/\n",
    "from jupyterhealth_client import JupyterHealthClient, Code\n",
    "jh_client = JupyterHealthClient()\n",
    "\n",
    "# Sample study and patient for the purpose of this tutorial\n",
    "patient_id = 40079\n",
    "study_id = 30017\n",
    "\n",
    "# Get basic information about the patient\n",
    "jh_client.get_patient(patient_id)"
   ]
  },
  {
   "cell_type": "markdown",
   "id": "029a2584-9214-4cb5-b01e-4146213ee978",
   "metadata": {},
   "source": [
    "### Loading CGM Data from JHE"
   ]
  },
  {
   "cell_type": "code",
   "execution_count": 3,
   "id": "d71e8c57-e95b-408d-8817-02a5f2fba6f1",
   "metadata": {},
   "outputs": [
    {
     "data": {
      "text/html": [
       "<div>\n",
       "<style scoped>\n",
       "    .dataframe tbody tr th:only-of-type {\n",
       "        vertical-align: middle;\n",
       "    }\n",
       "\n",
       "    .dataframe tbody tr th {\n",
       "        vertical-align: top;\n",
       "    }\n",
       "\n",
       "    .dataframe thead th {\n",
       "        text-align: right;\n",
       "    }\n",
       "</style>\n",
       "<table border=\"1\" class=\"dataframe\">\n",
       "  <thead>\n",
       "    <tr style=\"text-align: right;\">\n",
       "      <th></th>\n",
       "      <th>time</th>\n",
       "      <th>gl</th>\n",
       "    </tr>\n",
       "  </thead>\n",
       "  <tbody>\n",
       "    <tr>\n",
       "      <th>0</th>\n",
       "      <td>2025-01-28 10:21:00+00:00</td>\n",
       "      <td>84.0</td>\n",
       "    </tr>\n",
       "    <tr>\n",
       "      <th>1</th>\n",
       "      <td>2025-01-28 10:26:00+00:00</td>\n",
       "      <td>83.0</td>\n",
       "    </tr>\n",
       "    <tr>\n",
       "      <th>2</th>\n",
       "      <td>2025-01-28 10:31:00+00:00</td>\n",
       "      <td>81.0</td>\n",
       "    </tr>\n",
       "    <tr>\n",
       "      <th>3</th>\n",
       "      <td>2025-01-28 10:36:00+00:00</td>\n",
       "      <td>82.0</td>\n",
       "    </tr>\n",
       "    <tr>\n",
       "      <th>4</th>\n",
       "      <td>2025-01-28 10:41:00+00:00</td>\n",
       "      <td>82.0</td>\n",
       "    </tr>\n",
       "  </tbody>\n",
       "</table>\n",
       "</div>"
      ],
      "text/plain": [
       "                       time    gl\n",
       "0 2025-01-28 10:21:00+00:00  84.0\n",
       "1 2025-01-28 10:26:00+00:00  83.0\n",
       "2 2025-01-28 10:31:00+00:00  81.0\n",
       "3 2025-01-28 10:36:00+00:00  82.0\n",
       "4 2025-01-28 10:41:00+00:00  82.0"
      ]
     },
     "execution_count": 3,
     "metadata": {},
     "output_type": "execute_result"
    }
   ],
   "source": [
    "# Using the client\n",
    "client_cgm_df = jh_client.list_observations_df(\n",
    "    patient_id = patient_id,\n",
    "    study_id = study_id,\n",
    "    code = Code.BLOOD_GLUCOSE.value,\n",
    "    limit = 10_000\n",
    ")\n",
    "\n",
    "cgm_df = load_cgm_data(source=\"client\", client_df=client_cgm_df)\n",
    "cgm_df.head()"
   ]
  },
  {
   "cell_type": "code",
   "execution_count": 4,
   "id": "c5b952e2-09d7-4bdc-91e0-f556eb9c7e41",
   "metadata": {},
   "outputs": [
    {
     "data": {
      "text/html": [
       "<div>\n",
       "<style scoped>\n",
       "    .dataframe tbody tr th:only-of-type {\n",
       "        vertical-align: middle;\n",
       "    }\n",
       "\n",
       "    .dataframe tbody tr th {\n",
       "        vertical-align: top;\n",
       "    }\n",
       "\n",
       "    .dataframe thead th {\n",
       "        text-align: right;\n",
       "    }\n",
       "</style>\n",
       "<table border=\"1\" class=\"dataframe\">\n",
       "  <thead>\n",
       "    <tr style=\"text-align: right;\">\n",
       "      <th></th>\n",
       "      <th>time</th>\n",
       "      <th>gl</th>\n",
       "    </tr>\n",
       "  </thead>\n",
       "  <tbody>\n",
       "    <tr>\n",
       "      <th>0</th>\n",
       "      <td>2025-01-28 10:21:00+00:00</td>\n",
       "      <td>84.0</td>\n",
       "    </tr>\n",
       "    <tr>\n",
       "      <th>1</th>\n",
       "      <td>2025-01-28 10:26:00+00:00</td>\n",
       "      <td>83.0</td>\n",
       "    </tr>\n",
       "    <tr>\n",
       "      <th>2</th>\n",
       "      <td>2025-01-28 10:31:00+00:00</td>\n",
       "      <td>81.0</td>\n",
       "    </tr>\n",
       "    <tr>\n",
       "      <th>3</th>\n",
       "      <td>2025-01-28 10:36:00+00:00</td>\n",
       "      <td>82.0</td>\n",
       "    </tr>\n",
       "    <tr>\n",
       "      <th>4</th>\n",
       "      <td>2025-01-28 10:41:00+00:00</td>\n",
       "      <td>82.0</td>\n",
       "    </tr>\n",
       "  </tbody>\n",
       "</table>\n",
       "</div>"
      ],
      "text/plain": [
       "                       time    gl\n",
       "0 2025-01-28 10:21:00+00:00  84.0\n",
       "1 2025-01-28 10:26:00+00:00  83.0\n",
       "2 2025-01-28 10:31:00+00:00  81.0\n",
       "3 2025-01-28 10:36:00+00:00  82.0\n",
       "4 2025-01-28 10:41:00+00:00  82.0"
      ]
     },
     "execution_count": 4,
     "metadata": {},
     "output_type": "execute_result"
    }
   ],
   "source": [
    "# You can also load using the local file\n",
    "cgm_df = load_cgm_data(source=\"file\", base_path=base_path, filename=\"blood_glucose.json\")\n",
    "cgm_df.head()"
   ]
  },
  {
   "cell_type": "markdown",
   "id": "83702c84-10ff-4f82-bcc1-2a9c91bda9d7",
   "metadata": {},
   "source": [
    "### Loading Sleep Data"
   ]
  },
  {
   "cell_type": "code",
   "execution_count": 16,
   "id": "26efaa64-5064-42d7-bb22-3481deb60d24",
   "metadata": {},
   "outputs": [
    {
     "data": {
      "text/html": [
       "<div>\n",
       "<style scoped>\n",
       "    .dataframe tbody tr th:only-of-type {\n",
       "        vertical-align: middle;\n",
       "    }\n",
       "\n",
       "    .dataframe tbody tr th {\n",
       "        vertical-align: top;\n",
       "    }\n",
       "\n",
       "    .dataframe thead th {\n",
       "        text-align: right;\n",
       "    }\n",
       "</style>\n",
       "<table border=\"1\" class=\"dataframe\">\n",
       "  <thead>\n",
       "    <tr style=\"text-align: right;\">\n",
       "      <th></th>\n",
       "      <th>start</th>\n",
       "      <th>end</th>\n",
       "      <th>stage</th>\n",
       "    </tr>\n",
       "  </thead>\n",
       "  <tbody>\n",
       "    <tr>\n",
       "      <th>0</th>\n",
       "      <td>2025-01-28 20:37:30+00:00</td>\n",
       "      <td>2025-01-28 20:41:30+00:00</td>\n",
       "      <td>Light_sleep</td>\n",
       "    </tr>\n",
       "    <tr>\n",
       "      <th>1</th>\n",
       "      <td>2025-01-28 20:41:30+00:00</td>\n",
       "      <td>2025-01-28 20:55:00+00:00</td>\n",
       "      <td>Awake</td>\n",
       "    </tr>\n",
       "    <tr>\n",
       "      <th>2</th>\n",
       "      <td>2025-01-28 20:55:00+00:00</td>\n",
       "      <td>2025-01-28 21:00:30+00:00</td>\n",
       "      <td>Light_sleep</td>\n",
       "    </tr>\n",
       "    <tr>\n",
       "      <th>3</th>\n",
       "      <td>2025-01-28 21:00:30+00:00</td>\n",
       "      <td>2025-01-28 21:07:00+00:00</td>\n",
       "      <td>Awake</td>\n",
       "    </tr>\n",
       "    <tr>\n",
       "      <th>4</th>\n",
       "      <td>2025-01-28 21:07:00+00:00</td>\n",
       "      <td>2025-01-28 21:26:00+00:00</td>\n",
       "      <td>Light_sleep</td>\n",
       "    </tr>\n",
       "  </tbody>\n",
       "</table>\n",
       "</div>"
      ],
      "text/plain": [
       "                      start                       end        stage\n",
       "0 2025-01-28 20:37:30+00:00 2025-01-28 20:41:30+00:00  Light_sleep\n",
       "1 2025-01-28 20:41:30+00:00 2025-01-28 20:55:00+00:00        Awake\n",
       "2 2025-01-28 20:55:00+00:00 2025-01-28 21:00:30+00:00  Light_sleep\n",
       "3 2025-01-28 21:00:30+00:00 2025-01-28 21:07:00+00:00        Awake\n",
       "4 2025-01-28 21:07:00+00:00 2025-01-28 21:26:00+00:00  Light_sleep"
      ]
     },
     "execution_count": 16,
     "metadata": {},
     "output_type": "execute_result"
    }
   ],
   "source": [
    "client_sleep_df = jh_client.list_observations_df(\n",
    "    patient_id = patient_id,\n",
    "    study_id = study_id,\n",
    "    code = Code.SLEEP_STAGE_SUMMARY.value\n",
    ")\n",
    "\n",
    "sleep_df = load_sleep_data(source=\"client\", client_df=client_sleep_df)\n",
    "sleep_df.head()"
   ]
  },
  {
   "cell_type": "code",
   "execution_count": 15,
   "id": "aec42851-0018-4ed3-a4d5-13abce9455f4",
   "metadata": {
    "scrolled": true
   },
   "outputs": [
    {
     "data": {
      "text/html": [
       "<div>\n",
       "<style scoped>\n",
       "    .dataframe tbody tr th:only-of-type {\n",
       "        vertical-align: middle;\n",
       "    }\n",
       "\n",
       "    .dataframe tbody tr th {\n",
       "        vertical-align: top;\n",
       "    }\n",
       "\n",
       "    .dataframe thead th {\n",
       "        text-align: right;\n",
       "    }\n",
       "</style>\n",
       "<table border=\"1\" class=\"dataframe\">\n",
       "  <thead>\n",
       "    <tr style=\"text-align: right;\">\n",
       "      <th></th>\n",
       "      <th>start</th>\n",
       "      <th>end</th>\n",
       "      <th>stage</th>\n",
       "    </tr>\n",
       "  </thead>\n",
       "  <tbody>\n",
       "    <tr>\n",
       "      <th>0</th>\n",
       "      <td>2025-01-28 20:37:30+00:00</td>\n",
       "      <td>2025-01-28 20:41:30+00:00</td>\n",
       "      <td>Light_sleep</td>\n",
       "    </tr>\n",
       "    <tr>\n",
       "      <th>1</th>\n",
       "      <td>2025-01-28 20:41:30+00:00</td>\n",
       "      <td>2025-01-28 20:55:00+00:00</td>\n",
       "      <td>Awake</td>\n",
       "    </tr>\n",
       "    <tr>\n",
       "      <th>2</th>\n",
       "      <td>2025-01-28 20:55:00+00:00</td>\n",
       "      <td>2025-01-28 21:00:30+00:00</td>\n",
       "      <td>Light_sleep</td>\n",
       "    </tr>\n",
       "    <tr>\n",
       "      <th>3</th>\n",
       "      <td>2025-01-28 21:00:30+00:00</td>\n",
       "      <td>2025-01-28 21:07:00+00:00</td>\n",
       "      <td>Awake</td>\n",
       "    </tr>\n",
       "    <tr>\n",
       "      <th>4</th>\n",
       "      <td>2025-01-28 21:07:00+00:00</td>\n",
       "      <td>2025-01-28 21:26:00+00:00</td>\n",
       "      <td>Light_sleep</td>\n",
       "    </tr>\n",
       "  </tbody>\n",
       "</table>\n",
       "</div>"
      ],
      "text/plain": [
       "                      start                       end        stage\n",
       "0 2025-01-28 20:37:30+00:00 2025-01-28 20:41:30+00:00  Light_sleep\n",
       "1 2025-01-28 20:41:30+00:00 2025-01-28 20:55:00+00:00        Awake\n",
       "2 2025-01-28 20:55:00+00:00 2025-01-28 21:00:30+00:00  Light_sleep\n",
       "3 2025-01-28 21:00:30+00:00 2025-01-28 21:07:00+00:00        Awake\n",
       "4 2025-01-28 21:07:00+00:00 2025-01-28 21:26:00+00:00  Light_sleep"
      ]
     },
     "execution_count": 15,
     "metadata": {},
     "output_type": "execute_result"
    }
   ],
   "source": [
    "sleep_df = load_sleep_data(source=\"file\", base_path=base_path, filename=\"sleep_stage_summary.json\")\n",
    "sleep_df.head()"
   ]
  },
  {
   "cell_type": "markdown",
   "id": "95497112-a40b-4a97-a16b-17fb149b3941",
   "metadata": {},
   "source": [
    "### Loading Food Entry Data"
   ]
  },
  {
   "cell_type": "code",
   "execution_count": 18,
   "id": "26d2dbc4-6386-4cc2-9186-07035b8123b7",
   "metadata": {},
   "outputs": [
    {
     "data": {
      "text/html": [
       "<div>\n",
       "<style scoped>\n",
       "    .dataframe tbody tr th:only-of-type {\n",
       "        vertical-align: middle;\n",
       "    }\n",
       "\n",
       "    .dataframe tbody tr th {\n",
       "        vertical-align: top;\n",
       "    }\n",
       "\n",
       "    .dataframe thead th {\n",
       "        text-align: right;\n",
       "    }\n",
       "</style>\n",
       "<table border=\"1\" class=\"dataframe\">\n",
       "  <thead>\n",
       "    <tr style=\"text-align: right;\">\n",
       "      <th></th>\n",
       "      <th>time</th>\n",
       "      <th>carbohydrate</th>\n",
       "      <th>food_name</th>\n",
       "      <th>calories</th>\n",
       "    </tr>\n",
       "  </thead>\n",
       "  <tbody>\n",
       "    <tr>\n",
       "      <th>0</th>\n",
       "      <td>2025-01-28 09:00:00+00:00</td>\n",
       "      <td>6.0</td>\n",
       "      <td>Soy Milk, Vanilla or Other Flavors, Unsweetene...</td>\n",
       "      <td>147.67</td>\n",
       "    </tr>\n",
       "    <tr>\n",
       "      <th>1</th>\n",
       "      <td>2025-01-28 12:30:00+00:00</td>\n",
       "      <td>0.0</td>\n",
       "      <td>Chicken Thigh, Skin Removed</td>\n",
       "      <td>173.00</td>\n",
       "    </tr>\n",
       "    <tr>\n",
       "      <th>2</th>\n",
       "      <td>2025-01-28 19:00:00+00:00</td>\n",
       "      <td>28.0</td>\n",
       "      <td>Pistachio Nuts, Raw</td>\n",
       "      <td>560.00</td>\n",
       "    </tr>\n",
       "    <tr>\n",
       "      <th>3</th>\n",
       "      <td>2025-01-29 10:15:00+00:00</td>\n",
       "      <td>6.0</td>\n",
       "      <td>Soy Milk, Vanilla or Other Flavors, Unsweetene...</td>\n",
       "      <td>147.67</td>\n",
       "    </tr>\n",
       "    <tr>\n",
       "      <th>4</th>\n",
       "      <td>2025-01-29 10:15:00+00:00</td>\n",
       "      <td>92.0</td>\n",
       "      <td>Pumpkin Pie,  single crust - 1/8 of 9\" pie</td>\n",
       "      <td>635.43</td>\n",
       "    </tr>\n",
       "  </tbody>\n",
       "</table>\n",
       "</div>"
      ],
      "text/plain": [
       "                       time  carbohydrate  \\\n",
       "0 2025-01-28 09:00:00+00:00           6.0   \n",
       "1 2025-01-28 12:30:00+00:00           0.0   \n",
       "2 2025-01-28 19:00:00+00:00          28.0   \n",
       "3 2025-01-29 10:15:00+00:00           6.0   \n",
       "4 2025-01-29 10:15:00+00:00          92.0   \n",
       "\n",
       "                                           food_name  calories  \n",
       "0  Soy Milk, Vanilla or Other Flavors, Unsweetene...    147.67  \n",
       "1                        Chicken Thigh, Skin Removed    173.00  \n",
       "2                                Pistachio Nuts, Raw    560.00  \n",
       "3  Soy Milk, Vanilla or Other Flavors, Unsweetene...    147.67  \n",
       "4         Pumpkin Pie,  single crust - 1/8 of 9\" pie    635.43  "
      ]
     },
     "execution_count": 18,
     "metadata": {},
     "output_type": "execute_result"
    }
   ],
   "source": [
    "client_food_df = jh_client.list_observations_df(\n",
    "    patient_id = patient_id,\n",
    "    study_id = study_id,\n",
    "    code = Code.FOOD_ENTRY.value\n",
    ")\n",
    "\n",
    "food_df = load_food_entry_data(source=\"client\", client_df=client_food_df)\n",
    "food_df.head()"
   ]
  },
  {
   "cell_type": "code",
   "execution_count": 19,
   "id": "713e4d1a-d89a-4a34-8e26-a56ba3892ce8",
   "metadata": {},
   "outputs": [
    {
     "data": {
      "text/html": [
       "<div>\n",
       "<style scoped>\n",
       "    .dataframe tbody tr th:only-of-type {\n",
       "        vertical-align: middle;\n",
       "    }\n",
       "\n",
       "    .dataframe tbody tr th {\n",
       "        vertical-align: top;\n",
       "    }\n",
       "\n",
       "    .dataframe thead th {\n",
       "        text-align: right;\n",
       "    }\n",
       "</style>\n",
       "<table border=\"1\" class=\"dataframe\">\n",
       "  <thead>\n",
       "    <tr style=\"text-align: right;\">\n",
       "      <th></th>\n",
       "      <th>time</th>\n",
       "      <th>carbohydrate</th>\n",
       "      <th>food_name</th>\n",
       "      <th>calories</th>\n",
       "    </tr>\n",
       "  </thead>\n",
       "  <tbody>\n",
       "    <tr>\n",
       "      <th>0</th>\n",
       "      <td>2025-01-28 09:00:00+00:00</td>\n",
       "      <td>6.0</td>\n",
       "      <td>Soy Milk, Vanilla or Other Flavors, Unsweetene...</td>\n",
       "      <td>147.67</td>\n",
       "    </tr>\n",
       "    <tr>\n",
       "      <th>1</th>\n",
       "      <td>2025-01-28 12:30:00+00:00</td>\n",
       "      <td>0.0</td>\n",
       "      <td>Chicken Thigh, Skin Removed</td>\n",
       "      <td>173.00</td>\n",
       "    </tr>\n",
       "    <tr>\n",
       "      <th>2</th>\n",
       "      <td>2025-01-28 19:00:00+00:00</td>\n",
       "      <td>28.0</td>\n",
       "      <td>Pistachio Nuts, Raw</td>\n",
       "      <td>560.00</td>\n",
       "    </tr>\n",
       "    <tr>\n",
       "      <th>3</th>\n",
       "      <td>2025-01-29 10:15:00+00:00</td>\n",
       "      <td>6.0</td>\n",
       "      <td>Soy Milk, Vanilla or Other Flavors, Unsweetene...</td>\n",
       "      <td>147.67</td>\n",
       "    </tr>\n",
       "    <tr>\n",
       "      <th>4</th>\n",
       "      <td>2025-01-29 10:15:00+00:00</td>\n",
       "      <td>92.0</td>\n",
       "      <td>Pumpkin Pie,  single crust - 1/8 of 9\" pie</td>\n",
       "      <td>635.43</td>\n",
       "    </tr>\n",
       "  </tbody>\n",
       "</table>\n",
       "</div>"
      ],
      "text/plain": [
       "                       time  carbohydrate  \\\n",
       "0 2025-01-28 09:00:00+00:00           6.0   \n",
       "1 2025-01-28 12:30:00+00:00           0.0   \n",
       "2 2025-01-28 19:00:00+00:00          28.0   \n",
       "3 2025-01-29 10:15:00+00:00           6.0   \n",
       "4 2025-01-29 10:15:00+00:00          92.0   \n",
       "\n",
       "                                           food_name  calories  \n",
       "0  Soy Milk, Vanilla or Other Flavors, Unsweetene...    147.67  \n",
       "1                        Chicken Thigh, Skin Removed    173.00  \n",
       "2                                Pistachio Nuts, Raw    560.00  \n",
       "3  Soy Milk, Vanilla or Other Flavors, Unsweetene...    147.67  \n",
       "4         Pumpkin Pie,  single crust - 1/8 of 9\" pie    635.43  "
      ]
     },
     "execution_count": 19,
     "metadata": {},
     "output_type": "execute_result"
    }
   ],
   "source": [
    "food_df = load_food_entry_data(source=\"file\", base_path=base_path, filename=\"food_entry.json\")\n",
    "food_df.head()"
   ]
  },
  {
   "cell_type": "markdown",
   "id": "efffa9d8-388e-4ab9-9a94-7a22f90fd447",
   "metadata": {},
   "source": [
    "## Using the CGMSandbox"
   ]
  },
  {
   "cell_type": "code",
   "execution_count": 8,
   "id": "4224d733",
   "metadata": {},
   "outputs": [
    {
     "data": {
      "application/vnd.jupyter.widget-view+json": {
       "model_id": "86b53e09b48140f8a8cd352467d82067",
       "version_major": 2,
       "version_minor": 0
      },
      "text/plain": [
       "VBox(children=(HBox(children=(Button(description='←', layout=Layout(border_bottom='1px solid #d0d0d0', border_…"
      ]
     },
     "execution_count": 8,
     "metadata": {},
     "output_type": "execute_result"
    },
    {
     "data": {
      "image/png": "[encoded data removed]",
      "text/plain": [
       "<Figure size 1500x500 with 2 Axes>"
      ]
     },
     "metadata": {},
     "output_type": "display_data"
    }
   ],
   "source": [
    "### Initialize the CGMSandbox Viewer and draw daily glucose tracings\n",
    "viewer = CGMViewer(source=\"file\", \n",
    "                   base_path=base_path, \n",
    "                   filename=\"blood_glucose.json\", \n",
    "                   gl_range=(0, 250))\n",
    "\n",
    "### Let's try to add some overlay's to the plain CGM tracing! \n",
    "viewer.add_overlay(TimeInRangeOverlay())\n",
    "viewer.add_overlay(FoodEntryOverlay(base_path, filename=\"food_entry.json\"))\n",
    "\n",
    "# ### Now, let us extend the plain CGM tracing by adding an hypnogram extension\n",
    "viewer.add_extensions(HypnogramExtension(base_path, filename=\"sleep_stage_summary.json\"))\n",
    "\n",
    "# ### Let us use overlay to visualize our CGM-based biomarkers\n",
    "viewer.add_overlay(CgmMeasuresOverlay())\n",
    "viewer.add_overlay(CvOverlay())\n",
    "viewer.add_overlay(MageOverlay(show_ma=True))\n",
    "\n",
    "# ### We can utilize sleep and diet data to extract other meaninful markers\n",
    "viewer.add_overlay(WakeupGlucoseOverlay(base_path, filename=\"sleep_stage_summary.json\"))\n",
    "viewer.add_overlay(PPGROverlay(base_path, filename=\"food_entry.json\"))\n",
    "\n",
    "viewer.show()"
   ]
  },
  {
   "cell_type": "code",
   "execution_count": null,
   "id": "ef697e73-ddb9-4972-91ba-bef68d55ec40",
   "metadata": {},
   "outputs": [],
   "source": []
  }
 ],
 "metadata": {
  "kernelspec": {
   "display_name": "Python 3 (ipykernel)",
   "language": "python",
   "name": "python3"
  },
  "language_info": {
   "codemirror_mode": {
    "name": "ipython",
    "version": 3
   },
   "file_extension": ".py",
   "mimetype": "text/x-python",
   "name": "python",
   "nbconvert_exporter": "python",
   "pygments_lexer": "ipython3",
   "version": "3.13.7"
  }
 },
 "nbformat": 4,
 "nbformat_minor": 5
}
