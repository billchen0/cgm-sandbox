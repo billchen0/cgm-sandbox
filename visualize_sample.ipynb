{
 "cells": [
  {
   "cell_type": "code",
   "execution_count": 7,
   "id": "7820ec48",
   "metadata": {},
   "outputs": [
    {
     "name": "stdout",
     "output_type": "stream",
     "text": [
      "The autoreload extension is already loaded. To reload it, use:\n",
      "  %reload_ext autoreload\n"
     ]
    }
   ],
   "source": [
    "%load_ext autoreload\n",
    "%autoreload 2\n",
    "\n",
    "# Import the CGMViewer class\n",
    "from viewer import CGMViewer\n",
    "\n",
    "# Import overlays on CGM (glucose) time-series\n",
    "from overlays import (\n",
    "    DietOverlay,\n",
    "    TimeInRangeOverlay\n",
    ")\n",
    "\n",
    "# Import extensions (e.g. hypnogram) that will be attached in separate panel\n",
    "from extensions import HypnogramExtension"
   ]
  },
  {
   "cell_type": "code",
   "execution_count": 8,
   "id": "cc412861",
   "metadata": {},
   "outputs": [],
   "source": [
    "# Define path to dataset\n",
    "base_path = \"/Users/billchen/Desktop/dwatch-sample/sample_subject\""
   ]
  },
  {
   "cell_type": "code",
   "execution_count": null,
   "id": "4224d733",
   "metadata": {},
   "outputs": [
    {
     "data": {
      "application/vnd.jupyter.widget-view+json": {
       "model_id": "86c5726737014fef83fde3ceb1db044e",
       "version_major": 2,
       "version_minor": 0
      },
      "text/plain": [
       "VBox(children=(HBox(children=(Button(description='←', layout=Layout(border_bottom='1px solid #d0d0d0', border_…"
      ]
     },
     "execution_count": 11,
     "metadata": {},
     "output_type": "execute_result"
    }
   ],
   "source": [
    "# Initialize the CGMSandbox Viewer and draw daily glucose tracings\n",
    "viewer = CGMViewer(base_path, filename=\"blood_glucose.json\")\n",
    "\n",
    "viewer.show()"
   ]
  },
  {
   "cell_type": "code",
   "execution_count": null,
   "id": "dab0a66a",
   "metadata": {},
   "outputs": [],
   "source": []
  }
 ],
 "metadata": {
  "kernelspec": {
   "display_name": ".venv",
   "language": "python",
   "name": "python3"
  },
  "language_info": {
   "codemirror_mode": {
    "name": "ipython",
    "version": 3
   },
   "file_extension": ".py",
   "mimetype": "text/x-python",
   "name": "python",
   "nbconvert_exporter": "python",
   "pygments_lexer": "ipython3",
   "version": "3.13.2"
  }
 },
 "nbformat": 4,
 "nbformat_minor": 5
}
