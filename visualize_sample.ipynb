{
 "cells": [
  {
   "cell_type": "code",
   "execution_count": 35,
   "id": "7820ec48",
   "metadata": {},
   "outputs": [
    {
     "name": "stdout",
     "output_type": "stream",
     "text": [
      "The autoreload extension is already loaded. To reload it, use:\n",
      "  %reload_ext autoreload\n"
     ]
    }
   ],
   "source": [
    "%load_ext autoreload\n",
    "%autoreload 2\n",
    "# %matplotlib widget\n",
    "\n",
    "# Import loaders (used by viewer and overlays)\n",
    "from loader import (\n",
    "    load_cgm_data,\n",
    "    load_sleep_data,\n",
    "    load_food_entry_data\n",
    ")\n",
    "\n",
    "# Import the CGMViewer class\n",
    "from viewer import CGMViewer\n",
    "\n",
    "# Import overlays on CGM (glucose) time-series\n",
    "from overlays import (\n",
    "    TimeInRangeOverlay,\n",
    "    FoodEntryOverlay\n",
    ")\n",
    "\n",
    "# Import CGM-based biomarker overlays\n",
    "from overlays import (\n",
    "    CgmMeasuresOverlay,\n",
    "    CvOverlay,\n",
    "    MageOverlay\n",
    ")\n",
    "\n",
    "# Import Multi-modal biomarker overlays\n",
    "from overlays import (\n",
    "    WakeupGlucoseOverlay,\n",
    "    PPGROverlay\n",
    ")\n",
    "\n",
    "# Import extensions (e.g. hypnogram) that will be attached in separate panel\n",
    "from extensions import (\n",
    "    HypnogramExtension\n",
    ")\n",
    "\n",
    "base_path = \"./sample_subject\""
   ]
  },
  {
   "cell_type": "markdown",
   "id": "86bc58c8-1723-4d49-97ee-37806c8e8352",
   "metadata": {},
   "source": [
    "## Loading Data from the JupyterHealth Exchange"
   ]
  },
  {
   "cell_type": "code",
   "execution_count": 36,
   "id": "f5b16f38-1ed2-4df6-8870-5ab5b61da686",
   "metadata": {},
   "outputs": [
    {
     "data": {
      "text/plain": [
       "{'id': 40079,\n",
       " 'jheUserId': 10070,\n",
       " 'identifier': '010101',\n",
       " 'nameFamily': 'Doe',\n",
       " 'nameGiven': 'Jane',\n",
       " 'birthDate': '1998-01-01',\n",
       " 'telecomPhone': None,\n",
       " 'telecomEmail': 'janedoejupyter@example.org',\n",
       " 'organizations': [{'id': 20029,\n",
       "   'name': 'JupyterCon Tutorial',\n",
       "   'type': 'other',\n",
       "   'partOf': 20028,\n",
       "   'currentUserRole': None,\n",
       "   'children': []}]}"
      ]
     },
     "execution_count": 36,
     "metadata": {},
     "output_type": "execute_result"
    }
   ],
   "source": [
    "# Initialize the JupyterHealth Client\n",
    "# See documentation for more detail: https://jupyterhealth.org/software-documentation/\n",
    "from jupyterhealth_client import JupyterHealthClient, Code\n",
    "jh_client = JupyterHealthClient()\n",
    "\n",
    "# Sample study and patient for the purpose of this tutorial\n",
    "patient_id = 40079\n",
    "study_id = 30017\n",
    "\n",
    "# Get basic information about the patient\n",
    "jh_client.get_patient(patient_id)"
   ]
  },
  {
   "cell_type": "markdown",
   "id": "029a2584-9214-4cb5-b01e-4146213ee978",
   "metadata": {},
   "source": [
    "### Loading CGM Data from JHE"
   ]
  },
  {
   "cell_type": "code",
   "execution_count": 38,
   "id": "d71e8c57-e95b-408d-8817-02a5f2fba6f1",
   "metadata": {},
   "outputs": [
    {
     "data": {
      "text/html": [
       "<div>\n",
       "<style scoped>\n",
       "    .dataframe tbody tr th:only-of-type {\n",
       "        vertical-align: middle;\n",
       "    }\n",
       "\n",
       "    .dataframe tbody tr th {\n",
       "        vertical-align: top;\n",
       "    }\n",
       "\n",
       "    .dataframe thead th {\n",
       "        text-align: right;\n",
       "    }\n",
       "</style>\n",
       "<table border=\"1\" class=\"dataframe\">\n",
       "  <thead>\n",
       "    <tr style=\"text-align: right;\">\n",
       "      <th></th>\n",
       "      <th>time</th>\n",
       "      <th>gl</th>\n",
       "    </tr>\n",
       "  </thead>\n",
       "  <tbody>\n",
       "    <tr>\n",
       "      <th>0</th>\n",
       "      <td>2025-01-28 10:21:00+00:00</td>\n",
       "      <td>84.0</td>\n",
       "    </tr>\n",
       "    <tr>\n",
       "      <th>1</th>\n",
       "      <td>2025-01-28 10:26:00+00:00</td>\n",
       "      <td>83.0</td>\n",
       "    </tr>\n",
       "    <tr>\n",
       "      <th>2</th>\n",
       "      <td>2025-01-28 10:31:00+00:00</td>\n",
       "      <td>81.0</td>\n",
       "    </tr>\n",
       "    <tr>\n",
       "      <th>3</th>\n",
       "      <td>2025-01-28 10:36:00+00:00</td>\n",
       "      <td>82.0</td>\n",
       "    </tr>\n",
       "    <tr>\n",
       "      <th>4</th>\n",
       "      <td>2025-01-28 10:41:00+00:00</td>\n",
       "      <td>82.0</td>\n",
       "    </tr>\n",
       "  </tbody>\n",
       "</table>\n",
       "</div>"
      ],
      "text/plain": [
       "                       time    gl\n",
       "0 2025-01-28 10:21:00+00:00  84.0\n",
       "1 2025-01-28 10:26:00+00:00  83.0\n",
       "2 2025-01-28 10:31:00+00:00  81.0\n",
       "3 2025-01-28 10:36:00+00:00  82.0\n",
       "4 2025-01-28 10:41:00+00:00  82.0"
      ]
     },
     "execution_count": 38,
     "metadata": {},
     "output_type": "execute_result"
    }
   ],
   "source": [
    "# Using the client\n",
    "client_cgm_df = jh_client.list_observations_df(\n",
    "    patient_id = patient_id,\n",
    "    study_id = study_id,\n",
    "    code = Code.BLOOD_GLUCOSE.value,\n",
    "    limit = 10_000\n",
    ")\n",
    "\n",
    "cgm_df = load_cgm_data(source=\"client\", client_df=client_cgm_df)\n",
    "cgm_df.head()"
   ]
  },
  {
   "cell_type": "code",
   "execution_count": 39,
   "id": "c5b952e2-09d7-4bdc-91e0-f556eb9c7e41",
   "metadata": {},
   "outputs": [
    {
     "data": {
      "text/html": [
       "<div>\n",
       "<style scoped>\n",
       "    .dataframe tbody tr th:only-of-type {\n",
       "        vertical-align: middle;\n",
       "    }\n",
       "\n",
       "    .dataframe tbody tr th {\n",
       "        vertical-align: top;\n",
       "    }\n",
       "\n",
       "    .dataframe thead th {\n",
       "        text-align: right;\n",
       "    }\n",
       "</style>\n",
       "<table border=\"1\" class=\"dataframe\">\n",
       "  <thead>\n",
       "    <tr style=\"text-align: right;\">\n",
       "      <th></th>\n",
       "      <th>time</th>\n",
       "      <th>gl</th>\n",
       "    </tr>\n",
       "  </thead>\n",
       "  <tbody>\n",
       "    <tr>\n",
       "      <th>0</th>\n",
       "      <td>2025-01-28 10:21:00+00:00</td>\n",
       "      <td>84.0</td>\n",
       "    </tr>\n",
       "    <tr>\n",
       "      <th>1</th>\n",
       "      <td>2025-01-28 10:26:00+00:00</td>\n",
       "      <td>83.0</td>\n",
       "    </tr>\n",
       "    <tr>\n",
       "      <th>2</th>\n",
       "      <td>2025-01-28 10:31:00+00:00</td>\n",
       "      <td>81.0</td>\n",
       "    </tr>\n",
       "    <tr>\n",
       "      <th>3</th>\n",
       "      <td>2025-01-28 10:36:00+00:00</td>\n",
       "      <td>82.0</td>\n",
       "    </tr>\n",
       "    <tr>\n",
       "      <th>4</th>\n",
       "      <td>2025-01-28 10:41:00+00:00</td>\n",
       "      <td>82.0</td>\n",
       "    </tr>\n",
       "  </tbody>\n",
       "</table>\n",
       "</div>"
      ],
      "text/plain": [
       "                       time    gl\n",
       "0 2025-01-28 10:21:00+00:00  84.0\n",
       "1 2025-01-28 10:26:00+00:00  83.0\n",
       "2 2025-01-28 10:31:00+00:00  81.0\n",
       "3 2025-01-28 10:36:00+00:00  82.0\n",
       "4 2025-01-28 10:41:00+00:00  82.0"
      ]
     },
     "execution_count": 39,
     "metadata": {},
     "output_type": "execute_result"
    }
   ],
   "source": [
    "# You can also load using the local file\n",
    "cgm_df = load_cgm_data(source=\"file\", base_path=base_path, filename=\"blood_glucose.json\")\n",
    "cgm_df.head()"
   ]
  },
  {
   "cell_type": "markdown",
   "id": "83702c84-10ff-4f82-bcc1-2a9c91bda9d7",
   "metadata": {},
   "source": [
    "## Loading Sleep and Food Entry Data from JHE"
   ]
  },
  {
   "cell_type": "code",
   "execution_count": null,
   "id": "26efaa64-5064-42d7-bb22-3481deb60d24",
   "metadata": {},
   "outputs": [],
   "source": []
  },
  {
   "cell_type": "markdown",
   "id": "efffa9d8-388e-4ab9-9a94-7a22f90fd447",
   "metadata": {},
   "source": [
    "## Using the CGMSandbox"
   ]
  },
  {
   "cell_type": "code",
   "execution_count": 3,
   "id": "4224d733",
   "metadata": {},
   "outputs": [
    {
     "data": {
      "application/vnd.jupyter.widget-view+json": {
       "model_id": "f85f6259f35748bfa74143c358532dcc",
       "version_major": 2,
       "version_minor": 0
      },
      "text/plain": [
       "VBox(children=(HBox(children=(Button(description='←', layout=Layout(border_bottom='1px solid #d0d0d0', border_…"
      ]
     },
     "execution_count": 3,
     "metadata": {},
     "output_type": "execute_result"
    }
   ],
   "source": [
    "### Initialize the CGMSandbox Viewer and draw daily glucose tracings\n",
    "viewer = CGMViewer(base_path, filename=\"blood_glucose.json\", gl_range=(0, 250))\n",
    "\n",
    "### Let's try to add some overlay's to the plain CGM tracing! \n",
    "viewer.add_overlay(TimeInRangeOverlay())\n",
    "viewer.add_overlay(FoodEntryOverlay(base_path, filename=\"food_entry.json\"))\n",
    "\n",
    "# ### Now, let us extend the plain CGM tracing by adding an hypnogram extension\n",
    "viewer.add_extensions(HypnogramExtension(base_path, filename=\"sleep_stage_summary.json\"))\n",
    "\n",
    "# ### Let us use overlay to visualize our CGM-based biomarkers\n",
    "viewer.add_overlay(CgmMeasuresOverlay())\n",
    "viewer.add_overlay(CvOverlay())\n",
    "viewer.add_overlay(MageOverlay(show_ma=True))\n",
    "\n",
    "# ### We can utilize sleep and diet data to extract other meaninful markers\n",
    "viewer.add_overlay(WakeupGlucoseOverlay(base_path, filename=\"sleep_stage_summary.json\"))\n",
    "viewer.add_overlay(PPGROverlay(base_path, filename=\"food_entry.json\"))\n",
    "\n",
    "viewer.show()"
   ]
  }
 ],
 "metadata": {
  "kernelspec": {
   "display_name": "Python 3 (ipykernel)",
   "language": "python",
   "name": "python3"
  },
  "language_info": {
   "codemirror_mode": {
    "name": "ipython",
    "version": 3
   },
   "file_extension": ".py",
   "mimetype": "text/x-python",
   "name": "python",
   "nbconvert_exporter": "python",
   "pygments_lexer": "ipython3",
   "version": "3.13.7"
  }
 },
 "nbformat": 4,
 "nbformat_minor": 5
}
