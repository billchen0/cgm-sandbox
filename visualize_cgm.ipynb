{
 "cells": [
  {
   "cell_type": "code",
   "execution_count": 1,
   "id": "44602fb7",
   "metadata": {},
   "outputs": [],
   "source": [
    "from viewer import CGMViewer\n",
    "from overlays import (\n",
    "    WakeupGlucoseOverlay, \n",
    "    PhysicalActivityOverlay, \n",
    "    StableGlucoseOverlay, \n",
    "    DietOverlay,\n",
    "    FastingGlucoseOverlay,\n",
    "    TimeInRangeOverlay,\n",
    "    PPGROverlay\n",
    ")\n",
    "from extensions import HypnogramExtension"
   ]
  },
  {
   "cell_type": "code",
   "execution_count": 2,
   "id": "11785e8e",
   "metadata": {},
   "outputs": [
    {
     "data": {
      "application/vnd.jupyter.widget-view+json": {
       "model_id": "69b12f0960d74b38932f82214a62f986",
       "version_major": 2,
       "version_minor": 0
      },
      "text/plain": [
       "VBox(children=(HBox(children=(Button(description='←', layout=Layout(border_bottom='1px solid #d0d0d0', border_…"
      ]
     },
     "execution_count": 2,
     "metadata": {},
     "output_type": "execute_result"
    }
   ],
   "source": [
    "base_path = \"/media/nvme1/ai-readi-data/wearable_blood_glucose/continuous_glucose_monitoring/dexcom_g6/\"\n",
    "sleep_path = \"/media/nvme1/ai-readi-data/wearable_activity_monitor/sleep/garmin_vivosmart5/\"\n",
    "pa_path = \"/media/nvme1/ai-readi-data/wearable_activity_monitor/physical_activity/garmin_vivosmart5/\"\n",
    "ai_readi_subject = 4169\n",
    "\n",
    "viewer1 = CGMViewer(base_path, ai_readi_subject, gl_range=(0, 405))\n",
    "\n",
    "viewer1.add_extensions(HypnogramExtension(sleep_path))\n",
    "viewer1.add_overlay(TimeInRangeOverlay())\n",
    "viewer1.add_overlay(WakeupGlucoseOverlay(sleep_path, min_sleep_hours=2))\n",
    "viewer1.add_overlay(PhysicalActivityOverlay(pa_path))\n",
    "viewer1.add_overlay(StableGlucoseOverlay(method=\"personalized_sd\", sd_multiplier=0.5))\n",
    "viewer1.show()"
   ]
  },
  {
   "cell_type": "code",
   "execution_count": 3,
   "id": "8e0d23dd",
   "metadata": {},
   "outputs": [
    {
     "data": {
      "application/vnd.jupyter.widget-view+json": {
       "model_id": "573138849ade47dca66ef12b603f2070",
       "version_major": 2,
       "version_minor": 0
      },
      "text/plain": [
       "VBox(children=(Output(),))"
      ]
     },
     "execution_count": 3,
     "metadata": {},
     "output_type": "execute_result"
    }
   ],
   "source": [
    "viewer2 = CGMViewer(base_path, ai_readi_subject, gl_range=(0, 405))\n",
    "\n",
    "viewer2.add_overlay(TimeInRangeOverlay())\n",
    "viewer2.add_overlay(PhysicalActivityOverlay(pa_path))\n",
    "#viewer2.add_overlay(WakeupGlucoseOverlay(sleep_path, min_sleep_hours=2))\n",
    "viewer2.add_overlay(StableGlucoseOverlay(method=\"personalized_sd\", sd_multiplier=1.0, min_hours=2.0))\n",
    "\n",
    "viewer2.show(view_mode=\"full\")"
   ]
  },
  {
   "cell_type": "code",
   "execution_count": 4,
   "id": "6db16cdb",
   "metadata": {},
   "outputs": [
    {
     "data": {
      "application/vnd.jupyter.widget-view+json": {
       "model_id": "3654c1390e594ab3a18548470727ded6",
       "version_major": 2,
       "version_minor": 0
      },
      "text/plain": [
       "VBox(children=(HBox(children=(Button(description='←', layout=Layout(border_bottom='1px solid #d0d0d0', border_…"
      ]
     },
     "execution_count": 4,
     "metadata": {},
     "output_type": "execute_result"
    }
   ],
   "source": [
    "base_path = \"/media/nvme1/cgmacros/CGMacros\"\n",
    "\n",
    "viewer3 = CGMViewer(base_path, 19)\n",
    "#viewer3.add_overlay(StableGlucoseOverlay(method=\"personalized_sd\", sampling_interval=1))\n",
    "viewer3.add_overlay(FastingGlucoseOverlay(base_path))\n",
    "viewer3.add_overlay(DietOverlay(base_path))\n",
    "#viewer3.add_overlay(PPGROverlay(base_path))\n",
    "viewer3.show()"
   ]
  },
  {
   "cell_type": "code",
   "execution_count": 5,
   "id": "ee54e4b7",
   "metadata": {},
   "outputs": [
    {
     "data": {
      "application/vnd.jupyter.widget-view+json": {
       "model_id": "16d3f440630c4b9592ccc881ee19a6e2",
       "version_major": 2,
       "version_minor": 0
      },
      "text/plain": [
       "VBox(children=(Output(),))"
      ]
     },
     "execution_count": 5,
     "metadata": {},
     "output_type": "execute_result"
    }
   ],
   "source": [
    "viewer4 = CGMViewer(base_path, 2)\n",
    "viewer4.add_overlay(StableGlucoseOverlay(\n",
    "    method=\"personalized_sd\",\n",
    "    sampling_interval=1,\n",
    "    sd_multiplier=0.5,\n",
    "    min_hours=2.0\n",
    "    ))\n",
    "viewer4.add_overlay(FastingGlucoseOverlay(base_path))\n",
    "viewer4.add_overlay(DietOverlay(base_path))\n",
    "viewer4.show(view_mode=\"full\")"
   ]
  },
  {
   "cell_type": "code",
   "execution_count": 6,
   "id": "4a37ca36",
   "metadata": {},
   "outputs": [
    {
     "data": {
      "application/vnd.jupyter.widget-view+json": {
       "model_id": "f7ab4d5b8e70482b8c13602669ff6125",
       "version_major": 2,
       "version_minor": 0
      },
      "text/plain": [
       "VBox(children=(HBox(children=(Button(description='←', layout=Layout(border_bottom='1px solid #d0d0d0', border_…"
      ]
     },
     "execution_count": 6,
     "metadata": {},
     "output_type": "execute_result"
    }
   ],
   "source": [
    "base_path = \"/media/nvme1/stanford-cgm\"\n",
    "stanford_subject = 2\n",
    "\n",
    "viewer0 = CGMViewer(base_path, stanford_subject, gl_range=(0, 405))\n",
    "viewer0.add_extensions(HypnogramExtension(base_path))\n",
    "viewer0.add_overlay(WakeupGlucoseOverlay(base_path, min_sleep_hours=2))\n",
    "viewer0.add_overlay(StableGlucoseOverlay(method=\"personalized_sd\", sd_multiplier=0.5))\n",
    "viewer0.show()"
   ]
  }
 ],
 "metadata": {
  "kernelspec": {
   "display_name": ".venv",
   "language": "python",
   "name": "python3"
  },
  "language_info": {
   "codemirror_mode": {
    "name": "ipython",
    "version": 3
   },
   "file_extension": ".py",
   "mimetype": "text/x-python",
   "name": "python",
   "nbconvert_exporter": "python",
   "pygments_lexer": "ipython3",
   "version": "3.10.14"
  }
 },
 "nbformat": 4,
 "nbformat_minor": 5
}
